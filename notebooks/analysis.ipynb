{
 "cells": [
  {
   "cell_type": "markdown",
   "id": "69277dc7",
   "metadata": {},
   "source": [
    "# 📊 AI Job Market Trends Analysis\n",
    "\n",
    "This notebook analyzes AI job market data to uncover insights on salaries, skills, remote work, and job demand trends."
   ]
  },
  {
   "cell_type": "code",
   "execution_count": null,
   "id": "36e31ba9",
   "metadata": {},
   "outputs": [],
   "source": [
    "\n",
    "import pandas as pd\n",
    "import matplotlib.pyplot as plt\n",
    "import seaborn as sns\n",
    "\n",
    "# Configure plots\n",
    "sns.set(style=\"whitegrid\")\n",
    "plt.rcParams[\"figure.figsize\"] = (10,6)\n"
   ]
  },
  {
   "cell_type": "code",
   "execution_count": null,
   "id": "f794bece",
   "metadata": {},
   "outputs": [],
   "source": [
    "\n",
    "# Load the dataset\n",
    "df = pd.read_csv(\"data/ai_job_dataset_cleaned.csv\")\n",
    "\n",
    "# Display shape and first rows\n",
    "df.shape, df.head()\n"
   ]
  },
  {
   "cell_type": "code",
   "execution_count": null,
   "id": "4699b150",
   "metadata": {},
   "outputs": [],
   "source": [
    "\n",
    "# Basic dataset info\n",
    "df.info()\n"
   ]
  },
  {
   "cell_type": "markdown",
   "id": "1749ab37",
   "metadata": {},
   "source": [
    "## 💰 Salary Analysis"
   ]
  },
  {
   "cell_type": "code",
   "execution_count": null,
   "id": "0df3b977",
   "metadata": {},
   "outputs": [],
   "source": [
    "\n",
    "# Average salary by experience level\n",
    "salary_exp = df.groupby(\"experience_level\")[\"salary_usd\"].mean().sort_values(ascending=False)\n",
    "salary_exp.plot(kind=\"bar\", color=\"skyblue\", edgecolor=\"black\")\n",
    "plt.title(\"Average Salary by Experience Level\")\n",
    "plt.ylabel(\"Salary (USD)\")\n",
    "plt.show()\n"
   ]
  },
  {
   "cell_type": "markdown",
   "id": "c19213e8",
   "metadata": {},
   "source": [
    "## 🌍 Job Distribution by Location"
   ]
  },
  {
   "cell_type": "code",
   "execution_count": null,
   "id": "00ecca1b",
   "metadata": {},
   "outputs": [],
   "source": [
    "\n",
    "job_location = df[\"employee_residence\"].value_counts().head(10)\n",
    "sns.barplot(x=job_location.values, y=job_location.index, palette=\"viridis\")\n",
    "plt.title(\"Top 10 Job Locations\")\n",
    "plt.xlabel(\"Job Count\")\n",
    "plt.show()\n"
   ]
  },
  {
   "cell_type": "markdown",
   "id": "0c83ef10",
   "metadata": {},
   "source": [
    "## 🏠 Remote Work Opportunities"
   ]
  },
  {
   "cell_type": "code",
   "execution_count": null,
   "id": "91d61b29",
   "metadata": {},
   "outputs": [],
   "source": [
    "\n",
    "remote_counts = df[\"remote_ratio\"].value_counts().sort_index()\n",
    "remote_counts.plot(kind=\"pie\", autopct=\"%1.1f%%\", labels=[\"On-site\",\"Hybrid\",\"Remote\"], colors=[\"#ff9999\",\"#66b3ff\",\"#99ff99\"])\n",
    "plt.title(\"Remote Work Ratio\")\n",
    "plt.ylabel(\"\")\n",
    "plt.show()\n"
   ]
  },
  {
   "cell_type": "markdown",
   "id": "c4a5280d",
   "metadata": {},
   "source": [
    "## 🛠️ Skills in Demand"
   ]
  },
  {
   "cell_type": "code",
   "execution_count": null,
   "id": "62274c75",
   "metadata": {},
   "outputs": [],
   "source": [
    "\n",
    "# Count top 10 most frequent skills from required_skills column\n",
    "from collections import Counter\n",
    "\n",
    "skills = df[\"required_skills\"].dropna().str.split(\", \")\n",
    "all_skills = [skill for sublist in skills for skill in sublist]\n",
    "skill_counts = Counter(all_skills).most_common(10)\n",
    "\n",
    "skills_df = pd.DataFrame(skill_counts, columns=[\"Skill\", \"Count\"])\n",
    "sns.barplot(x=\"Count\", y=\"Skill\", data=skills_df, palette=\"magma\")\n",
    "plt.title(\"Top 10 Skills in AI Job Market\")\n",
    "plt.show()\n"
   ]
  },
  {
   "cell_type": "markdown",
   "id": "fecbeff4",
   "metadata": {},
   "source": [
    "## 📅 Job Postings Over Time"
   ]
  },
  {
   "cell_type": "code",
   "execution_count": null,
   "id": "ba3b7707",
   "metadata": {},
   "outputs": [],
   "source": [
    "\n",
    "df[\"posting_date\"] = pd.to_datetime(df[\"posting_date\"], errors=\"coerce\")\n",
    "trend = df.groupby(df[\"posting_date\"].dt.to_period(\"M\")).size()\n",
    "\n",
    "trend.plot(kind=\"line\", marker=\"o\")\n",
    "plt.title(\"AI Job Postings Over Time\")\n",
    "plt.ylabel(\"Job Count\")\n",
    "plt.xlabel(\"Month\")\n",
    "plt.show()\n"
   ]
  },
  {
   "cell_type": "markdown",
   "id": "05ebe6d5",
   "metadata": {},
   "source": [
    "\n",
    "## 🔎 Key Insights\n",
    "\n",
    "- Senior-level roles offer the highest salaries.  \n",
    "- Certain countries dominate AI job postings.  \n",
    "- Remote and hybrid roles are a significant portion of the market.  \n",
    "- Python, SQL, and cloud skills (AWS, Azure) are consistently in demand.  \n",
    "- The number of AI job postings has shown an upward trend.  \n"
   ]
  }
 ],
 "metadata": {},
 "nbformat": 4,
 "nbformat_minor": 5
}
